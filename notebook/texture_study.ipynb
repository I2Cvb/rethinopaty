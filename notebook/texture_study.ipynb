{
 "cells": [
  {
   "cell_type": "markdown",
   "metadata": {},
   "source": [
    "# Ontology in texture orientation in SD-OCT images\n",
    "\n",
    "This work derives from the experiments reported [here](https://github.com/I2Cvb/oct-Report/blob/master/master.pdf). On these experiments, LBP-based texture descriptors are used for classifing SD-OCT volumes in a two-class fashion: healty vs DME.\n",
    "\n",
    "LBP texutre can be formulated either as a non-rotation invariant or as a rotation invariant descriptor. This rotation invariance of the descriptor is achieved at expenses of limiting the bandwith of the descriptor. Meaning, that less types of textures can be described, but the textures that can be captured by the descriptor are recognized regardless of its orientation.\n",
    "\n",
    "This notebook is an attempt to address the following questions, which rise from the previous reflection:\n",
    "    #. When using rotation invariant texture descriptors, how much penalization in texture specificity there is?\n",
    "    #. rotation invariant texture vs image correction + non-rotation invariant texture \n",
    "\n",
    "## Image considerations \n",
    "\n",
    "SD-OCT images present a radial formation (as seen in fig.1a), therefore identical structures might present a rotated texture. In this manner, a rotation invariant texture descriptor is conveninent. However the strategy of adding a preprocessing stage to flatten the image (see fig.1b) and then use a regular texture descriptor is worth to take into consideration. \n",
    "\n",
    "![flatting](http://imagebank.osa.org/getImage.xqy?img=QC5mdWxsLG9lLTE4LTE4LTE5NDEzLWcwMDY&article=oe-18-18-19413-g006)\n",
    "\n",
    "## Experiments design\n",
    "\n",
    "We prettend to compare the performance of the selected configurations\n",
    "\n",
    "|image correction | texture                           |\n",
    "|:---------------:|:---------------------------------:|\n",
    "|                 | Non-RI  |         | RI            |\n",
    "|                 | LBP     | Textons | LBP  | Textons|\n",
    "|yes              |x        |x        |      |        |\n",
    "|no               |         |         |x     |x       |\n"
   ]
  },
  {
   "cell_type": "code",
   "execution_count": null,
   "metadata": {
    "collapsed": true
   },
   "outputs": [],
   "source": []
  }
 ],
 "metadata": {
  "kernelspec": {
   "display_name": "Python 2",
   "language": "python",
   "name": "python2"
  },
  "language_info": {
   "codemirror_mode": {
    "name": "ipython",
    "version": 2
   },
   "file_extension": ".py",
   "mimetype": "text/x-python",
   "name": "python",
   "nbconvert_exporter": "python",
   "pygments_lexer": "ipython2",
   "version": "2.7.9"
  }
 },
 "nbformat": 4,
 "nbformat_minor": 0
}
